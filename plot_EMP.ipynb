{
 "cells": [
  {
   "cell_type": "code",
   "execution_count": null,
   "id": "1f1a3c4f-f54d-4b59-b32c-8b4f70b617e2",
   "metadata": {},
   "outputs": [],
   "source": [
    "from bs4 import BeautifulSoup\n",
    "import pandas as pd\n",
    "import json\n",
    "import requests\n",
    "import matplotlib.pyplot as plt\n",
    "%matplotlib inline"
   ]
  },
  {
   "cell_type": "code",
   "execution_count": null,
   "id": "f7e60fe7-7c71-452c-90de-a7dc75366281",
   "metadata": {},
   "outputs": [],
   "source": [
    "# Creates dataframe from json file\n",
    "census_df = pd.read_json(filename)\n",
    "\n",
    "# Renames the headers\n",
    "census_df.rename(columns=census_df.iloc[0],inplace=True)\n",
    "census_df.drop(0,inplace=True)\n",
    "census_df"
   ]
  },
  {
   "cell_type": "code",
   "execution_count": null,
   "id": "532ae3cb-f19a-4846-8588-9f3af7844a64",
   "metadata": {},
   "outputs": [],
   "source": [
    "#drop unnecessary columns\n",
    "census_df_dropped = census_df.drop(columns=['us','NAICS2017','SEX','GEO_ID','ETH_GROUP','RACE_GROUP','EMP_F','FIRMPDEMP_F','VET_GROUP','EMP_S','FIRMPDEMP_S','FIRMPDEMP_S_F','PAYANN_S','RCPPDEMP_S','RCPPDEMP_F','RCPPDEMP_S_F','EMP_S_F','PAYANN_S_F','PAYANN_F'],axis=1)"
   ]
  },
  {
   "cell_type": "code",
   "execution_count": null,
   "id": "e4bbaa77-d5a8-4506-ba4f-5e7a35bdd948",
   "metadata": {},
   "outputs": [],
   "source": [
    "#filter out only male/female values\n",
    "census_df_emp_filtered = census_df_dropped[(census_df_dropped['EMPSZFI_LABEL']!='All firms') & (census_df_dropped['EMPSZFI_LABEL']!='Firms with no employees')]\n",
    "\n",
    "census_df_filtered_male = census_df_emp_filtered[census_df_emp_filtered['SEX_LABEL'] == 'Male']\n",
    "census_df_filtered_female = census_df_emp_filtered[census_df_emp_filtered['SEX_LABEL'] == 'Female']\n",
    "#group by EMPSZFI_Label, return the values in numpy array\n",
    "census_df_emp_sex_male = census_df_filtered_male.groupby('EMPSZFI_LABEL').agg({'SEX_LABEL':'value_counts'})['SEX_LABEL'].values\n",
    "census_df_emp_sex_female = census_df_filtered_female.groupby('EMPSZFI_LABEL').agg({'SEX_LABEL':'value_counts'})['SEX_LABEL'].values\n",
    "census_df_emp = census_df_emp_filtered['EMPSZFI_LABEL'].unique()"
   ]
  },
  {
   "cell_type": "code",
   "execution_count": null,
   "id": "50d03bd8-a127-4c0a-8743-db3931e29ec9",
   "metadata": {},
   "outputs": [],
   "source": [
    "#filter out by ethnicity\n",
    "census_df_filtered_hispanic = census_df_emp_filtered[census_df_dropped['ETH_GROUP_LABEL']=='Hispanic']\n",
    "census_df_filtered_nohispanic = census_df_emp_filtered[census_df_dropped['ETH_GROUP_LABEL']=='Non-Hispanic']\n",
    "#group by ethnicity, return the values in numpy array\n",
    "census_df_emp_eth_hispanic = census_df_filtered_hispanic.groupby('EMPSZFI_LABEL').agg({'ETH_GROUP_LABEL':'value_counts'})['ETH_GROUP_LABEL'].values\n",
    "census_df_emp_eth_nohispanic = census_df_filtered_nohispanic.groupby('EMPSZFI_LABEL').agg({'ETH_GROUP_LABEL':'value_counts'})['ETH_GROUP_LABEL'].values"
   ]
  },
  {
   "cell_type": "code",
   "execution_count": null,
   "id": "6cf4e77e-e225-4f2d-99f4-71efd3ae0fb6",
   "metadata": {},
   "outputs": [],
   "source": [
    "census_df_emp_filtered.info()\n",
    "census_df_emp_filtered['RCPPDEMP'] = census_df_emp_filtered.RCPPDEMP.astype(int)\n",
    "census_df_emp_sales = census_df_emp_filtered.groupby('EMPSZFI_LABEL').agg({'RCPPDEMP':'mean'})['RCPPDEMP'].values/1000"
   ]
  },
  {
   "cell_type": "code",
   "execution_count": null,
   "id": "59d76356-9f5a-4081-ae2d-235701602b5a",
   "metadata": {},
   "outputs": [],
   "source": [
    "#configure plot\n",
    "\n",
    "x = np.arange(len(census_df_emp))  # the label locations\n",
    "width = 0.35  # the width of the bars\n",
    "#configure plot\n",
    "fig,ax = plt.subplots()\n",
    "rects1 = ax.barh(x - width/2, census_df_emp_sex_male, width, label='Men')\n",
    "rects2 = ax.barh(x + width/2, census_df_emp_sex_female, width, label='Women')\n",
    "#set labels\n",
    "ax.set_xlabel('Number of Individuals')\n",
    "ax.set_title('Number of Individuals by Firm Size and Gender')\n",
    "#set legend location\n",
    "ax.legend(loc=0)\n",
    "#set y axis limit\n",
    "ax.set_xlim([0, 420])\n",
    "ax.set_yticks(x,census_df_emp)\n",
    "ax.bar_label(rects1, padding=3)\n",
    "ax.bar_label(rects2, padding=3)\n",
    "#make graph wider\n",
    "fig.subplots_adjust(left=2,right=3)\n",
    "\n",
    "fig2,ax2 = plt.subplots()\n",
    "rects1 = ax2.barh(x - width/2, census_df_emp_eth_hispanic, width, label='Hispanic')\n",
    "rects2 = ax2.barh(x + width/2, census_df_emp_eth_nohispanic, width, label='Non-Hispanic')\n",
    "#set labels\n",
    "ax2.set_xlabel('Number of Individuals')\n",
    "ax2.set_title('Number of Individuals by Firm Size and Ethnicity')\n",
    "#set legend location\n",
    "ax2.legend(loc=0)\n",
    "#set y axis limit\n",
    "ax2.set_xlim([0, 420])\n",
    "ax2.set_yticks(x,census_df_emp)\n",
    "ax2.bar_label(rects1, padding=4)\n",
    "ax2.bar_label(rects2, padding=4)\n",
    "#make graph wider\n",
    "fig2.subplots_adjust(left=2,right=3)\n",
    "plt.show()\n",
    "\n",
    "fig3,ax3 = plt.subplots()\n",
    "rects1 = ax3.barh(x - width/2, census_df_emp_sales, width, label='Annual Sale')\n",
    "#set labels\n",
    "ax3.set_xlabel('Sales (thousand $)')\n",
    "ax3.set_title('Sales by Firm Size')\n",
    "ax3.set_xlim([0,73000])\n",
    "#set legend location\n",
    "#set y axis limit\n",
    "ax3.set_yticks(x,census_df_emp)\n",
    "ax3.bar_label(rects1, padding=4)\n",
    "#make graph wider\n",
    "fig3.subplots_adjust(left=2,right=3)\n",
    "plt.show()"
   ]
  }
 ],
 "metadata": {
  "kernelspec": {
   "display_name": "Python 3 (ipykernel)",
   "language": "python",
   "name": "python3"
  },
  "language_info": {
   "codemirror_mode": {
    "name": "ipython",
    "version": 3
   },
   "file_extension": ".py",
   "mimetype": "text/x-python",
   "name": "python",
   "nbconvert_exporter": "python",
   "pygments_lexer": "ipython3",
   "version": "3.9.7"
  }
 },
 "nbformat": 4,
 "nbformat_minor": 5
}
