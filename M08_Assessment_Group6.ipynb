{
 "cells": [
  {
   "cell_type": "markdown",
   "id": "80e49856",
   "metadata": {
    "jp-MarkdownHeadingCollapsed": true,
    "tags": []
   },
   "source": [
    "# Group Exercise - Creating Visualizations While Exploring Data"
   ]
  },
  {
   "cell_type": "code",
   "execution_count": 53,
   "id": "a5ecaab6",
   "metadata": {},
   "outputs": [],
   "source": [
    "import requests\n",
    "import json\n",
    "import pandas as pd\n",
    "import numpy as np\n",
    "import matplotlib.pyplot as plt\n",
    "%matplotlib inline\n",
    "\n",
    "def normalization(indexlist, elementlist):\n",
    "    new_column = []\n",
    "    for index in indexlist:\n",
    "        for element in elementlist:\n",
    "            if (indexlist.index(index)==elementlist.index(element)):\n",
    "                new_column.append(element[0]/(avg_num_employees.loc[index].values[0]))\n",
    "                \n",
    "    return new_column\n",
    "#with open('config.json', 'rt') as config:\n",
    " #   key = json.load(config)['key']"
   ]
  },
  {
   "cell_type": "markdown",
   "id": "8b0f7212",
   "metadata": {
    "jp-MarkdownHeadingCollapsed": true,
    "tags": []
   },
   "source": [
    "# Create Census DataFrame"
   ]
  },
  {
   "cell_type": "code",
   "execution_count": null,
   "id": "d6502074",
   "metadata": {},
   "outputs": [],
   "source": [
    "key = '16effcabd5d51ae74821b3639db3844d8c7f1beb'\n",
    "url = f'https://api.census.gov/data/2018/abscs?get=GEO_ID,NAME,NAICS2017,NAICS2017_LABEL,SEX,SEX_LABEL,ETH_GROUP,ETH_GROUP_LABEL,RACE_GROUP,RACE_GROUP_LABEL,VET_GROUP,VET_GROUP_LABEL,EMPSZFI,EMPSZFI_LABEL,YEAR,FIRMPDEMP,FIRMPDEMP_F,RCPPDEMP,RCPPDEMP_F,EMP,EMP_F,PAYANN,PAYANN_F,FIRMPDEMP_S,FIRMPDEMP_S_F,RCPPDEMP_S,RCPPDEMP_S_F,EMP_S,EMP_S_F,PAYANN_S,PAYANN_S_F&for=us:*&key={key}'\n",
    "url_state = f'https://api.census.gov/data/2018/abscs?get=GEO_ID,NAME,NAICS2017,NAICS2017_LABEL,SEX,SEX_LABEL,ETH_GROUP,ETH_GROUP_LABEL,RACE_GROUP,RACE_GROUP_LABEL,VET_GROUP,VET_GROUP_LABEL,EMPSZFI,EMPSZFI_LABEL,YEAR,FIRMPDEMP,FIRMPDEMP_F,RCPPDEMP,RCPPDEMP_F,EMP,EMP_F,PAYANN,PAYANN_F,FIRMPDEMP_S,FIRMPDEMP_S_F,RCPPDEMP_S,RCPPDEMP_S_F,EMP_S,EMP_S_F,PAYANN_S,PAYANN_S_F&for=state:*&key={key}'\n",
    "url_bo = f'https://api.census.gov/data/2018/abscbo?get=GEO_ID,NAME,OWNCHAR,OWNCHAR_LABEL,OWNPDEMP,OWNPDEMP_F&for=state:*&key={key}'\n",
    "\n",
    "json_code = requests.get(url).json()\n",
    "with open('census_data_2018.json','wt') as census:\n",
    "    json.dump(json_code, census)\n",
    "\n",
    "json_code_state = requests.get(url_state).json()\n",
    "with open('census_data_2018_state.json','wt') as census2:\n",
    "    json.dump(json_code_state, census2)\n",
    "\n",
    "json_code_bo = requests.get(url_bo).json()\n",
    "with open('census_data_2018_bo.json','wt') as census3:\n",
    "    json.dump(json_code_bo, census3) "
   ]
  },
  {
   "cell_type": "code",
   "execution_count": null,
   "id": "063d66a7-1f2c-42b8-af17-dbf7bb235110",
   "metadata": {},
   "outputs": [],
   "source": [
    "census_df = pd.read_json('census_data_2018.json')\n",
    "census_df.rename(columns=census_df.iloc[0],inplace=True)\n",
    "census_df.drop(0,inplace=True)\n",
    "census_df.drop(columns=['us','NAICS2017','SEX','GEO_ID','ETH_GROUP','EMP_F','FIRMPDEMP_F','VET_GROUP','EMP_S','FIRMPDEMP_S','FIRMPDEMP_S_F','PAYANN_S','RCPPDEMP_S','RCPPDEMP_F','RCPPDEMP_S_F','EMP_S_F','PAYANN_S_F','PAYANN_F'],axis=1,inplace=True)\n",
    "\n",
    "#handle state data\n",
    "census_df_state = pd.read_json('census_data_2018_state.json')\n",
    "census_df_state.rename(columns=census_df_state.iloc[0],inplace=True)\n",
    "census_df_state.drop(0,inplace=True)\n",
    "\n",
    "#handle abscbo data\n",
    "census_df_bo = pd.read_json('census_data_2018_bo.json')\n",
    "census_df_bo.rename(columns=census_df_bo.iloc[0],inplace=True)\n",
    "census_df_bo.drop(0,inplace=True)"
   ]
  },
  {
   "cell_type": "markdown",
   "id": "526ccfc6-8ea0-47b6-9790-490c0d3158ec",
   "metadata": {
    "jp-MarkdownHeadingCollapsed": true,
    "tags": []
   },
   "source": [
    "# Number of Owners of Mid-size Firms"
   ]
  },
  {
   "cell_type": "code",
   "execution_count": null,
   "id": "223c7423-d5f0-4286-bb19-cf3e86be0c3b",
   "metadata": {},
   "outputs": [],
   "source": [
    "pd_firm = census_df_state[(census_df_state['EMPSZFI_LABEL'] == 'Firms with 50 to 99 employees') & (census_df_state['SEX_LABEL'] == 'Total')& (census_df_state['VET_GROUP_LABEL'] == 'Total')& (census_df_state['ETH_GROUP_LABEL'] == 'Total')& (census_df_state['RACE_GROUP_LABEL'] == 'Total')& (census_df_state['NAICS2017_LABEL'] == 'Total for all sectors')]\n",
    "pd_owner_pre = census_df_bo[census_df_bo['OWNCHAR_LABEL'] == '2000 to 2007']\n",
    "pd_owner_post = census_df_bo[census_df_bo['OWNCHAR_LABEL'] == '2008 to 2012']"
   ]
  },
  {
   "cell_type": "code",
   "execution_count": null,
   "id": "0d6fc29f-0844-412c-a085-507a703434e6",
   "metadata": {},
   "outputs": [],
   "source": [
    "# create merge for two time periods\n",
    "merge_pre = pd_firm.merge(pd_owner_pre,on = 'NAME',how='inner')\n",
    "merge_post = pd_firm.merge(pd_owner_post,on = 'NAME',how='inner')"
   ]
  },
  {
   "cell_type": "code",
   "execution_count": null,
   "id": "ece6ef3d-3482-48c6-b80d-cdb7c61ad46c",
   "metadata": {},
   "outputs": [],
   "source": [
    "#Number of owners of respondent employer firms with 500+ employees established between 2008 - 2012, in MN,NY,and WI\n",
    "filtered_pre = merge_pre[merge_pre['NAME'].isin(['New York','Minnesota','Wisconsin'])]\n",
    "filtered_post = merge_post[merge_post['NAME'].isin(['New York','Minnesota','Wisconsin'])]\n",
    "#convert to numeric\n",
    "filtered_pre.OWNPDEMP=filtered_pre.OWNPDEMP.astype(int)\n",
    "filtered_post.OWNPDEMP=filtered_post.OWNPDEMP.astype(int)"
   ]
  },
  {
   "cell_type": "code",
   "execution_count": 54,
   "id": "6af1eb50-7932-46b7-90fc-94ba1923e9e3",
   "metadata": {},
   "outputs": [
    {
     "data": {
      "image/png": "[encoded data removed]",
      "text/plain": [
       "<Figure size 432x288 with 1 Axes>"
      ]
     },
     "metadata": {
      "needs_background": "light"
     },
     "output_type": "display_data"
    }
   ],
   "source": [
    "x = np.arange(3)  # the label locations\n",
    "width = 0.35  # the width of the bars\n",
    "fig,ax = plt.subplots()\n",
    "rects1 = ax.bar(x - width/2, filtered_post['OWNPDEMP'], width, label='2000-2007',color='#006600')\n",
    "rects2 = ax.bar(x + width/2, filtered_pre['OWNPDEMP'], width, label='2008-2012',color='#990000')\n",
    "#set labels\n",
    "ax.set_ylabel('Number of owners')\n",
    "ax.set_title('Number of Owners of mid-size firms before and after the Great Recession',pad=15)\n",
    "#set legend location\n",
    "ax.legend(loc=0)\n",
    "#set y axis limit\n",
    "ax.set_ylim([0, 52000])\n",
    "ax.set_xticks(x,filtered_pre['NAME'].values)\n",
    "ax.bar_label(rects1, padding=4)\n",
    "ax.bar_label(rects2, padding=4)\n",
    "#make graph wider\n",
    "fig.subplots_adjust(left=2,right=3)\n",
    "plt.savefig('hellp')\n",
    "plt.show()"
   ]
  },
  {
   "cell_type": "markdown",
   "id": "ea39fe58",
   "metadata": {
    "jp-MarkdownHeadingCollapsed": true,
    "tags": []
   },
   "source": [
    "# Create race group dataframe:"
   ]
  },
  {
   "cell_type": "code",
   "execution_count": null,
   "id": "ffd27fc3",
   "metadata": {},
   "outputs": [],
   "source": [
    "race_groups_only = census_df[census_df['RACE_GROUP_LABEL']!='Total']\n",
    "\n",
    "race_emps = race_groups_only[['RACE_GROUP_LABEL','RACE_GROUP','EMP']]\n",
    "\n",
    "race_emps['EMP'] = pd.to_numeric(race_emps['EMP'])\n",
    "\n",
    "race_emps = race_emps[(race_emps['RACE_GROUP_LABEL'] != 'Classifiable') & (race_emps['RACE_GROUP_LABEL'] != 'Unclassifiable') & (race_emps['RACE_GROUP_LABEL'] != 'Nonminority') & (race_emps['RACE_GROUP_LABEL'] != 'Minority') & (race_emps['RACE_GROUP_LABEL'] != 'Equally minority/nonminority')]\n",
    "\n",
    "avg_num_employees = race_emps.groupby(by='RACE_GROUP_LABEL').mean()\n",
    "avg_num_employees.plot.pie(subplots=True,labeldistance=None,autopct='%.2f%%',pctdistance=1.2,figsize=(8,8))\n",
    "plt.legend(loc=3)\n",
    "plt.title('Percentage of Employees by Race')"
   ]
  },
  {
   "cell_type": "markdown",
   "id": "12eacb6a",
   "metadata": {
    "jp-MarkdownHeadingCollapsed": true,
    "tags": []
   },
   "source": [
    "## Race vs. Annual payments"
   ]
  },
  {
   "cell_type": "code",
   "execution_count": null,
   "id": "fc8a5a88",
   "metadata": {
    "scrolled": true
   },
   "outputs": [],
   "source": [
    "race_payann = race_groups_only[['RACE_GROUP_LABEL','RACE_GROUP','PAYANN']]\n",
    "\n",
    "race_payann['PAYANN'] = pd.to_numeric(race_payann['PAYANN'])\n",
    "\n",
    "race_payann = race_payann[(race_payann['RACE_GROUP_LABEL'] != 'Classifiable') & (race_payann['RACE_GROUP_LABEL'] != 'Unclassifiable') & (race_payann['RACE_GROUP_LABEL'] != 'Nonminority') & (race_payann['RACE_GROUP_LABEL'] != 'Minority') & (race_payann['RACE_GROUP_LABEL'] != 'Equally minority/nonminority')]\n",
    "\n",
    "avg_pay_by_race = race_payann.groupby('RACE_GROUP_LABEL').mean()\n",
    "\n",
    "race_groups = list(avg_pay_by_race.index)\n",
    "\n",
    "avg_pay_by_race['normalized_avg_pay'] = normalization(race_groups, list(avg_pay_by_race.values))\n",
    "avg_pay_by_race['Race Group'] = race_groups\n",
    "\n",
    "avg_pay_by_race.plot.barh(y='normalized_avg_pay',x='Race Group',legend=None, color= [\"b\",'orange','g','r','purple'])\n",
    "plt.xlabel('Avg. Annual Pay rate ($1000s)')\n",
    "plt.ylabel('Race Group')\n",
    "plt.title('Average Annual Pay Rate ($1000s) by Race - 2018')"
   ]
  },
  {
   "cell_type": "markdown",
   "id": "901c2561",
   "metadata": {
    "jp-MarkdownHeadingCollapsed": true,
    "tags": []
   },
   "source": [
    "## Race vs. Total Sales (\\$)"
   ]
  },
  {
   "cell_type": "code",
   "execution_count": null,
   "id": "c1d67124",
   "metadata": {
    "scrolled": true
   },
   "outputs": [],
   "source": [
    "race_sales = race_groups_only[['RACE_GROUP_LABEL','RACE_GROUP','RCPPDEMP']]\n",
    "\n",
    "race_sales['RCPPDEMP'] = pd.to_numeric(race_sales['RCPPDEMP'])\n",
    "\n",
    "race_sales = race_sales[(race_sales['RACE_GROUP_LABEL'] != 'Classifiable') & (race_sales['RACE_GROUP_LABEL'] != 'Unclassifiable') & (race_sales['RACE_GROUP_LABEL'] != 'Nonminority') & (race_sales['RACE_GROUP_LABEL'] != 'Minority') & (race_sales['RACE_GROUP_LABEL'] != 'Equally minority/nonminority')]\n",
    "\n",
    "avg_total_sales_by_race = race_sales.groupby('RACE_GROUP_LABEL').mean()\n",
    "\n",
    "avg_total_sales_by_race['normalized_avg_sales'] = normalization(race_groups, list(avg_total_sales_by_race.values))\n",
    "\n",
    "avg_total_sales_by_race['Race Group'] = list(avg_total_sales_by_race.index)\n",
    "\n",
    "avg_total_sales_by_race.plot.barh(y='normalized_avg_sales', x='Race Group', legend=None)\n",
    "plt.ylabel('Race Group')\n",
    "plt.xlabel('Avg. Total Sales ($1000) in a year')\n",
    "plt.title('Average Total Sales ($1000) by Race - 2018')\n"
   ]
  },
  {
   "cell_type": "markdown",
   "id": "3650c551-ebbc-4d85-a951-f4e5e254dc4e",
   "metadata": {
    "jp-MarkdownHeadingCollapsed": true,
    "tags": []
   },
   "source": [
    "### Test plots by race and sex"
   ]
  },
  {
   "cell_type": "code",
   "execution_count": null,
   "id": "2e58f1a5-be9a-40d6-af52-395cdd6dd732",
   "metadata": {},
   "outputs": [],
   "source": [
    "census_df_dropped_race = census_df_dropped[(census_df_dropped['RACE_GROUP_LABEL'] != 'Classifiable') & (census_df_dropped['RACE_GROUP_LABEL'] != 'Unclassifiable') & (census_df_dropped['RACE_GROUP_LABEL'] != 'Nonminority') & (census_df_dropped['RACE_GROUP_LABEL'] != 'Minority') & (census_df_dropped['RACE_GROUP_LABEL'] != 'Equally minority/nonminority')]\n",
    "census_df_dropped_race['EMP'] = census_df_dropped_race['EMP'].astype(int)\n",
    "avg_num_of_employee_race = census_df_dropped_race.groupby(by='RACE_GROUP_LABEL').mean()\n",
    "avg_num_of_employee_sex = census_df_dropped_race.groupby(by='SEX_LABEL').mean()\n",
    "avg_num_of_employee_race.plot.bar()\n",
    "avg_num_of_employee_sex.plot.bar()"
   ]
  },
  {
   "cell_type": "code",
   "execution_count": null,
   "id": "c45fd6ca-0d41-43f4-90de-283abd286827",
   "metadata": {},
   "outputs": [],
   "source": [
    "census_df_dropped_sex = census_df_dropped[(census_df_dropped['SEX_LABEL'] != 'Unclassifiable') & (census_df_dropped['SEX_LABEL'] != 'Total') & (census_df_dropped['SEX_LABEL'] != 'Classifiable')]\n",
    "census_df_dropped_sex['EMP'] = census_df_dropped_sex['EMP'].astype(int)\n",
    "avg_num_of_employee_sex = census_df_dropped_sex.groupby(by='SEX_LABEL').mean()\n",
    "avg_num_of_employee_sex.plot.bar()"
   ]
  },
  {
   "cell_type": "markdown",
   "id": "ad9e1f87-7b91-4516-ba0b-20eb15559f62",
   "metadata": {
    "jp-MarkdownHeadingCollapsed": true,
    "tags": []
   },
   "source": [
    "# Annual Pay by Sex"
   ]
  },
  {
   "cell_type": "code",
   "execution_count": null,
   "id": "bbb2b241-b175-4470-b8f2-46f69cddd5a7",
   "metadata": {},
   "outputs": [],
   "source": [
    "census_df_dropped_sex['PAYANN'] = census_df_dropped_sex['PAYANN'].astype(int)\n",
    "avg_annual_pay_sex = census_df_dropped_sex.groupby(by='SEX_LABEL').mean()"
   ]
  },
  {
   "cell_type": "code",
   "execution_count": null,
   "id": "6b9d11ad-f71c-4560-8b40-36377f7a035d",
   "metadata": {},
   "outputs": [],
   "source": [
    "AAPSG = avg_annual_pay_sex.plot(title = 'Average Annual Pay by Sex', kind='barh')\n",
    "AAPSG.set_xlabel('Annual Pay ($)')\n",
    "AAPSG.set_ylabel('Sex')\n",
    "desc_annual_pay_sex = census_df_dropped_sex.groupby('SEX_LABEL').describe()\n",
    "plt.boxplot(desc_annual_pay_sex)\n",
    "plt.show()"
   ]
  },
  {
   "cell_type": "markdown",
   "id": "63c9c996-41dd-49e5-960a-674b87a69f7d",
   "metadata": {
    "jp-MarkdownHeadingCollapsed": true,
    "tags": []
   },
   "source": [
    "# Annual Pay by Company Size"
   ]
  },
  {
   "cell_type": "code",
   "execution_count": null,
   "id": "e535b498-d1f5-4b7e-bc0c-f8d99f8e87a2",
   "metadata": {},
   "outputs": [],
   "source": [
    "census_df_dropped_company_size = census_df_dropped[(census_df_dropped['EMPSZFI_LABEL'] != 'All firms')]\n",
    "census_df_dropped_company_size['PAYANN'] = pd.to_numeric(census_df_dropped_company_size['PAYANN'])\n",
    "avg_annual_pay_company_size = census_df_dropped_company_size.groupby('EMPSZFI_LABEL').mean()"
   ]
  },
  {
   "cell_type": "code",
   "execution_count": null,
   "id": "943381fe-12b6-40f4-ba2f-3b614c54e8ce",
   "metadata": {},
   "outputs": [],
   "source": [
    "AAPCSG = avg_annual_pay_company_size.plot(title = 'Average Annual Pay by Company Size', kind='barh')\n",
    "AAPCSG.set_xlabel('Annual Pay ($)')\n",
    "AAPCSG.set_ylabel('Company Size')\n",
    "plt.show()"
   ]
  },
  {
   "cell_type": "code",
   "execution_count": null,
   "id": "b95e956e-6e7f-4fb8-b124-05c6932fdfe4",
   "metadata": {},
   "outputs": [],
   "source": [
    "desc_annual_pay_company_size = census_df_dropped_company_size.groupby('EMPSZFI_LABEL').describe()\n",
    "plt.boxplot(desc_annual_pay_company_size)\n",
    "plt.title('Annual Pay by Company Size')\n",
    "plt.xlabel('Company Size')\n",
    "plt.ylabel('Annual Pay (in millions of $)')\n",
    "plt.show()"
   ]
  },
  {
   "cell_type": "markdown",
   "id": "bebb9e86-63e9-4d69-9d67-0790ac20eb41",
   "metadata": {
    "jp-MarkdownHeadingCollapsed": true,
    "tags": []
   },
   "source": [
    "# Annual Pay by Industry"
   ]
  },
  {
   "cell_type": "code",
   "execution_count": null,
   "id": "ccd3bb55-14b1-4aff-ab72-33847c45ba77",
   "metadata": {},
   "outputs": [],
   "source": [
    "census_df_dropped_industry = census_df_dropped[(census_df_dropped['NAICS2017_LABEL'] != 'Total for all sectors')]\n",
    "census_df_dropped_industry['PAYANN'] = pd.to_numeric(census_df_dropped_industry['PAYANN'])\n",
    "avg_annual_pay_industry = census_df_dropped_industry.groupby('NAICS2017_LABEL').mean()"
   ]
  },
  {
   "cell_type": "code",
   "execution_count": null,
   "id": "2d93b45c-2c98-4536-a66d-8206ab174be3",
   "metadata": {},
   "outputs": [],
   "source": [
    "AAPIG = avg_annual_pay_industry.plot(title = 'Average Annual Pay by Industry', kind='barh')\n",
    "AAPIG.set_xlabel('Annual Pay ($)')\n",
    "AAPIG.set_ylabel('Industry Name')\n",
    "plt.show()"
   ]
  },
  {
   "cell_type": "markdown",
   "id": "b8b7e5c7-9806-4e83-a122-8761281d2bb6",
   "metadata": {
    "jp-MarkdownHeadingCollapsed": true,
    "tags": []
   },
   "source": [
    "# Race - Geolocation "
   ]
  },
  {
   "cell_type": "code",
   "execution_count": null,
   "id": "573d1f6e-bbe7-4891-b849-4e61da6c0199",
   "metadata": {},
   "outputs": [],
   "source": [
    "tk_cut = census_df_state[[\"NAME\",\"RACE_GROUP_LABEL\",\"VET_GROUP_LABEL\"]]\n",
    "tk_races_specific = tk_cut[(tk_cut['RACE_GROUP_LABEL'] != 'Classifiable') & (tk_cut['RACE_GROUP_LABEL'] != 'Unclassifiable') & (tk_cut['RACE_GROUP_LABEL'] != 'Nonminority') & (tk_cut['RACE_GROUP_LABEL'] != 'Minority') & (tk_cut['RACE_GROUP_LABEL'] != 'Equally minority/nonminority') & (tk_cut['RACE_GROUP_LABEL'] != 'Total')]\n",
    "tk_races_geo = tk_races_specific.drop(\"VET_GROUP_LABEL\",axis=1)\n",
    "tk_geo_racesgrouped = tk_races_geo.groupby('NAME', sort=False)['RACE_GROUP_LABEL'].value_counts()"
   ]
  },
  {
   "cell_type": "code",
   "execution_count": null,
   "id": "a8868e93-611c-4668-81e3-958f60db1336",
   "metadata": {},
   "outputs": [],
   "source": [
    "# Minnesota\n",
    "mn_plot = tk_geo_racesgrouped[\"Minnesota\"].plot(kind='barh', title='Minnesota Survey Counts by Race', ylabel='Count of Surveys',\n",
    "         xlabel='Race', figsize=(6, 5))"
   ]
  },
  {
   "cell_type": "code",
   "execution_count": null,
   "id": "0f61cde1-6130-47ef-8a16-e56f7e850276",
   "metadata": {},
   "outputs": [],
   "source": [
    "#Wisconsin\n",
    "wi_plot = tk_geo_racesgrouped[\"Wisconsin\"].plot(kind='barh', title='Wisconsin Survey Counts by Race', ylabel='Count of Surveys',\n",
    "         xlabel='Race', figsize=(6, 5))"
   ]
  },
  {
   "cell_type": "code",
   "execution_count": null,
   "id": "f4eb687d-7415-46ef-96e3-387f065b6627",
   "metadata": {},
   "outputs": [],
   "source": [
    "#Washington D.C.\n",
    "dc_plot = tk_geo_racesgrouped[\"District of Columbia\"].plot(kind='barh', title='District of Columbia Survey Counts by Race', ylabel='Count of Surveys',\n",
    "         xlabel='Race', figsize=(6, 5))"
   ]
  },
  {
   "cell_type": "code",
   "execution_count": null,
   "id": "ea945df8-f9f1-4d15-86b5-e09c5ecf1a44",
   "metadata": {},
   "outputs": [],
   "source": [
    "comp_plot = tk_geo_racesgrouped[[\"Minnesota\", \"Wisconsin\", \"District of Columbia\"]].plot(kind='barh', title='Comparative Survey Counts by Race (MN, WI, DC)', ylabel='Count of Surveys',\n",
    "         xlabel='Race', figsize=(6, 5))"
   ]
  },
  {
   "cell_type": "markdown",
   "id": "ca2f7d5e-608e-4d07-82ef-f130066488cd",
   "metadata": {
    "jp-MarkdownHeadingCollapsed": true,
    "tags": []
   },
   "source": [
    "# Veteran Group - Geolocation"
   ]
  },
  {
   "cell_type": "code",
   "execution_count": null,
   "id": "9d1f2b2d-a736-4e3b-9cd3-ef39bcca5f28",
   "metadata": {},
   "outputs": [],
   "source": [
    "tk_vet_specific = tk_cut[(tk_cut['VET_GROUP_LABEL'] != 'Classifiable') & (tk_cut['VET_GROUP_LABEL'] != 'Unclassifiable')]\n",
    "tk_vet_geo = tk_vet_specific.drop(\"RACE_GROUP_LABEL\", axis=1)\n",
    "tk_geo_vetgrouped = tk_vet_geo.groupby(\"NAME\", sort=True)[\"VET_GROUP_LABEL\"].value_counts(sort=True)\n"
   ]
  },
  {
   "cell_type": "code",
   "execution_count": null,
   "id": "b1d615b3-132f-484a-9ef3-736fa8a3f7b3",
   "metadata": {},
   "outputs": [],
   "source": [
    "#Minnesota\n",
    "mn_plot = tk_geo_vetgrouped[\"Minnesota\"].plot(kind='barh', title='Minnesota Survey Counts by Veteran Status', ylabel='Count of Surveys', xlabel='Veteran Status', figsize=(6, 5))"
   ]
  },
  {
   "cell_type": "code",
   "execution_count": null,
   "id": "d817adf8-9fb5-4045-a10a-38b8bead1db9",
   "metadata": {},
   "outputs": [],
   "source": [
    "#Wisconsin\n",
    "wi_plot = tk_geo_vetgrouped[\"Wisconsin\"].plot(kind='barh', title='Winsconsin Survey Counts by Veteran Status', ylabel='Count of Surveys', xlabel='Veteran Status', figsize=(6, 5))"
   ]
  },
  {
   "cell_type": "code",
   "execution_count": null,
   "id": "552f800c-4771-4338-9a0d-9c8a28a59e1a",
   "metadata": {},
   "outputs": [],
   "source": [
    "# D.C\n",
    "dc_plot = tk_geo_vetgrouped[\"District of Columbia\"].plot(kind='barh', title='District of Columbia Survey Counts by Veteran Status', ylabel='Count of Surveys', xlabel='Veteran Status', figsize=(6, 5))"
   ]
  },
  {
   "cell_type": "code",
   "execution_count": null,
   "id": "b61306d1-622d-418d-bb5a-0f9fd6f38c3f",
   "metadata": {},
   "outputs": [],
   "source": [
    "comp_plot = tk_geo_vetgrouped[[\"Minnesota\", \"Wisconsin\", \"District of Columbia\"]].plot(kind='barh', title='Comparative Survey Counts by Veteran Status (MN, WI, DC)', ylabel='Count of Surveys',\n",
    "         xlabel='Race', figsize=(6, 5))"
   ]
  },
  {
   "cell_type": "code",
   "execution_count": null,
   "id": "db792513-797e-49d0-b939-2a669e889233",
   "metadata": {},
   "outputs": [],
   "source": []
  }
 ],
 "metadata": {
  "kernelspec": {
   "display_name": "Python 3 (ipykernel)",
   "language": "python",
   "name": "python3"
  },
  "language_info": {
   "codemirror_mode": {
    "name": "ipython",
    "version": 3
   },
   "file_extension": ".py",
   "mimetype": "text/x-python",
   "name": "python",
   "nbconvert_exporter": "python",
   "pygments_lexer": "ipython3",
   "version": "3.9.7"
  }
 },
 "nbformat": 4,
 "nbformat_minor": 5
}
