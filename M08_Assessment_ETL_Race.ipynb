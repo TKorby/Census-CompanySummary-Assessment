{
 "cells": [
  {
   "cell_type": "markdown",
   "id": "80e49856",
   "metadata": {},
   "source": [
    "# Group Exercise - Creating Visualizations While Exploring Data"
   ]
  },
  {
   "cell_type": "code",
   "execution_count": 1,
   "id": "a5ecaab6",
   "metadata": {},
   "outputs": [],
   "source": [
    "import requests\n",
    "import json\n",
    "import pandas as pd\n",
    "import matplotlib.pyplot as plt\n",
    "%matplotlib inline\n",
    "\n",
    "with open('config.json', 'rt') as config:\n",
    "    key = json.load(config)['key']"
   ]
  },
  {
   "cell_type": "markdown",
   "id": "8b0f7212",
   "metadata": {},
   "source": [
    "Create Census DataFrame"
   ]
  },
  {
   "cell_type": "code",
   "execution_count": 2,
   "id": "d6502074",
   "metadata": {},
   "outputs": [
    {
     "data": {
      "text/html": [
       "<div>\n",
       "<style scoped>\n",
       "    .dataframe tbody tr th:only-of-type {\n",
       "        vertical-align: middle;\n",
       "    }\n",
       "\n",
       "    .dataframe tbody tr th {\n",
       "        vertical-align: top;\n",
       "    }\n",
       "\n",
       "    .dataframe thead th {\n",
       "        text-align: right;\n",
       "    }\n",
       "</style>\n",
       "<table border=\"1\" class=\"dataframe\">\n",
       "  <thead>\n",
       "    <tr style=\"text-align: right;\">\n",
       "      <th></th>\n",
       "      <th>NAME</th>\n",
       "      <th>NAICS2017</th>\n",
       "      <th>NAICS2017_LABEL</th>\n",
       "      <th>SEX_LABEL</th>\n",
       "      <th>ETH_GROUP_LABEL</th>\n",
       "      <th>RACE_GROUP</th>\n",
       "      <th>RACE_GROUP_LABEL</th>\n",
       "      <th>VET_GROUP_LABEL</th>\n",
       "      <th>EMPSZFI</th>\n",
       "      <th>EMPSZFI_LABEL</th>\n",
       "      <th>YEAR</th>\n",
       "      <th>FIRMPDEMP</th>\n",
       "      <th>RCPPDEMP</th>\n",
       "      <th>EMP</th>\n",
       "      <th>PAYANN</th>\n",
       "      <th>FIRMPDEMP_S</th>\n",
       "      <th>RCPPDEMP_S</th>\n",
       "      <th>EMP_S</th>\n",
       "      <th>PAYANN_S</th>\n",
       "    </tr>\n",
       "  </thead>\n",
       "  <tbody>\n",
       "    <tr>\n",
       "      <th>1</th>\n",
       "      <td>United States</td>\n",
       "      <td>00</td>\n",
       "      <td>Total for all sectors</td>\n",
       "      <td>Female</td>\n",
       "      <td>Hispanic</td>\n",
       "      <td>00</td>\n",
       "      <td>Total</td>\n",
       "      <td>Total</td>\n",
       "      <td>001</td>\n",
       "      <td>All firms</td>\n",
       "      <td>2018</td>\n",
       "      <td>84496</td>\n",
       "      <td>91103725</td>\n",
       "      <td>722654</td>\n",
       "      <td>21975675</td>\n",
       "      <td>3.0</td>\n",
       "      <td>8.9</td>\n",
       "      <td>7.7</td>\n",
       "      <td>7.0</td>\n",
       "    </tr>\n",
       "    <tr>\n",
       "      <th>2</th>\n",
       "      <td>United States</td>\n",
       "      <td>00</td>\n",
       "      <td>Total for all sectors</td>\n",
       "      <td>Female</td>\n",
       "      <td>Hispanic</td>\n",
       "      <td>00</td>\n",
       "      <td>Total</td>\n",
       "      <td>Total</td>\n",
       "      <td>611</td>\n",
       "      <td>Firms with no employees</td>\n",
       "      <td>2018</td>\n",
       "      <td>10036</td>\n",
       "      <td>3233978</td>\n",
       "      <td>0</td>\n",
       "      <td>499996</td>\n",
       "      <td>4.7</td>\n",
       "      <td>19.2</td>\n",
       "      <td>0.0</td>\n",
       "      <td>13.5</td>\n",
       "    </tr>\n",
       "    <tr>\n",
       "      <th>3</th>\n",
       "      <td>United States</td>\n",
       "      <td>00</td>\n",
       "      <td>Total for all sectors</td>\n",
       "      <td>Female</td>\n",
       "      <td>Hispanic</td>\n",
       "      <td>00</td>\n",
       "      <td>Total</td>\n",
       "      <td>Total</td>\n",
       "      <td>612</td>\n",
       "      <td>Firms with 1 to 4 employees</td>\n",
       "      <td>2018</td>\n",
       "      <td>47105</td>\n",
       "      <td>15792524</td>\n",
       "      <td>92631</td>\n",
       "      <td>2808773</td>\n",
       "      <td>4.7</td>\n",
       "      <td>8.2</td>\n",
       "      <td>4.8</td>\n",
       "      <td>7.4</td>\n",
       "    </tr>\n",
       "    <tr>\n",
       "      <th>4</th>\n",
       "      <td>United States</td>\n",
       "      <td>00</td>\n",
       "      <td>Total for all sectors</td>\n",
       "      <td>Female</td>\n",
       "      <td>Hispanic</td>\n",
       "      <td>00</td>\n",
       "      <td>Total</td>\n",
       "      <td>Total</td>\n",
       "      <td>620</td>\n",
       "      <td>Firms with 5 to 9 employees</td>\n",
       "      <td>2018</td>\n",
       "      <td>12523</td>\n",
       "      <td>10688294</td>\n",
       "      <td>83449</td>\n",
       "      <td>2601817</td>\n",
       "      <td>5.9</td>\n",
       "      <td>4.3</td>\n",
       "      <td>5.6</td>\n",
       "      <td>6.3</td>\n",
       "    </tr>\n",
       "    <tr>\n",
       "      <th>5</th>\n",
       "      <td>United States</td>\n",
       "      <td>00</td>\n",
       "      <td>Total for all sectors</td>\n",
       "      <td>Female</td>\n",
       "      <td>Hispanic</td>\n",
       "      <td>00</td>\n",
       "      <td>Total</td>\n",
       "      <td>Total</td>\n",
       "      <td>630</td>\n",
       "      <td>Firms with 10 to 19 employees</td>\n",
       "      <td>2018</td>\n",
       "      <td>8516</td>\n",
       "      <td>14105603</td>\n",
       "      <td>116479</td>\n",
       "      <td>3506384</td>\n",
       "      <td>6.0</td>\n",
       "      <td>16.2</td>\n",
       "      <td>6.7</td>\n",
       "      <td>10.7</td>\n",
       "    </tr>\n",
       "  </tbody>\n",
       "</table>\n",
       "</div>"
      ],
      "text/plain": [
       "            NAME NAICS2017        NAICS2017_LABEL SEX_LABEL ETH_GROUP_LABEL  \\\n",
       "1  United States        00  Total for all sectors    Female        Hispanic   \n",
       "2  United States        00  Total for all sectors    Female        Hispanic   \n",
       "3  United States        00  Total for all sectors    Female        Hispanic   \n",
       "4  United States        00  Total for all sectors    Female        Hispanic   \n",
       "5  United States        00  Total for all sectors    Female        Hispanic   \n",
       "\n",
       "  RACE_GROUP RACE_GROUP_LABEL VET_GROUP_LABEL EMPSZFI  \\\n",
       "1         00            Total           Total     001   \n",
       "2         00            Total           Total     611   \n",
       "3         00            Total           Total     612   \n",
       "4         00            Total           Total     620   \n",
       "5         00            Total           Total     630   \n",
       "\n",
       "                   EMPSZFI_LABEL  YEAR FIRMPDEMP  RCPPDEMP     EMP    PAYANN  \\\n",
       "1                      All firms  2018     84496  91103725  722654  21975675   \n",
       "2        Firms with no employees  2018     10036   3233978       0    499996   \n",
       "3    Firms with 1 to 4 employees  2018     47105  15792524   92631   2808773   \n",
       "4    Firms with 5 to 9 employees  2018     12523  10688294   83449   2601817   \n",
       "5  Firms with 10 to 19 employees  2018      8516  14105603  116479   3506384   \n",
       "\n",
       "  FIRMPDEMP_S RCPPDEMP_S EMP_S PAYANN_S  \n",
       "1         3.0        8.9   7.7      7.0  \n",
       "2         4.7       19.2   0.0     13.5  \n",
       "3         4.7        8.2   4.8      7.4  \n",
       "4         5.9        4.3   5.6      6.3  \n",
       "5         6.0       16.2   6.7     10.7  "
      ]
     },
     "execution_count": 2,
     "metadata": {},
     "output_type": "execute_result"
    }
   ],
   "source": [
    "url = f'https://api.census.gov/data/2018/abscs?get=GEO_ID,NAME,NAICS2017,NAICS2017_LABEL,SEX,SEX_LABEL,ETH_GROUP,ETH_GROUP_LABEL,RACE_GROUP,RACE_GROUP_LABEL,VET_GROUP,VET_GROUP_LABEL,EMPSZFI,EMPSZFI_LABEL,YEAR,FIRMPDEMP,FIRMPDEMP_F,RCPPDEMP,RCPPDEMP_F,EMP,EMP_F,PAYANN,PAYANN_F,FIRMPDEMP_S,FIRMPDEMP_S_F,RCPPDEMP_S,RCPPDEMP_S_F,EMP_S,EMP_S_F,PAYANN_S,PAYANN_S_F&for=us:*&key={key}'\n",
    "\n",
    "json_code = requests.get(url).json()\n",
    "\n",
    "with open('census_data_2018.json','wt') as census:\n",
    "    json.dump(json_code, census)\n",
    "    \n",
    "census_df = pd.read_json('census_data_2018.json')\n",
    "\n",
    "census_df.rename(columns=census_df.iloc[0],inplace=True)\n",
    "\n",
    "census_df.drop(0,inplace=True)\n",
    "\n",
    "census_df.drop(columns=['us','SEX','GEO_ID','ETH_GROUP','VET_GROUP','FIRMPDEMP_F','RCPPDEMP_F','EMP_F','FIRMPDEMP_S_F','RCPPDEMP_S_F','EMP_S_F','PAYANN_S_F','PAYANN_F'],inplace=True,axis=1)\n",
    "\n",
    "census_df.head()"
   ]
  },
  {
   "cell_type": "markdown",
   "id": "ea39fe58",
   "metadata": {},
   "source": [
    "Create race group dataframe:"
   ]
  },
  {
   "cell_type": "code",
   "execution_count": 3,
   "id": "ffd27fc3",
   "metadata": {},
   "outputs": [
    {
     "name": "stderr",
     "output_type": "stream",
     "text": [
      "C:\\Users\\dfbod\\AppData\\Local\\Temp/ipykernel_22228/3827541343.py:5: SettingWithCopyWarning: \n",
      "A value is trying to be set on a copy of a slice from a DataFrame.\n",
      "Try using .loc[row_indexer,col_indexer] = value instead\n",
      "\n",
      "See the caveats in the documentation: https://pandas.pydata.org/pandas-docs/stable/user_guide/indexing.html#returning-a-view-versus-a-copy\n",
      "  race_emps['EMP'] = pd.to_numeric(race_emps['EMP'])\n"
     ]
    }
   ],
   "source": [
    "race_groups_only = census_df[census_df['RACE_GROUP_LABEL']!='Total']\n",
    "\n",
    "race_emps = race_groups_only[['RACE_GROUP_LABEL','RACE_GROUP','EMP']]\n",
    "\n",
    "race_emps['EMP'] = pd.to_numeric(race_emps['EMP'])\n",
    "\n",
    "race_emps = race_emps[(race_emps['RACE_GROUP_LABEL'] != 'Classifiable') & (race_emps['RACE_GROUP_LABEL'] != 'Unclassifiable') & (race_emps['RACE_GROUP_LABEL'] != 'Nonminority') & (race_emps['RACE_GROUP_LABEL'] != 'Minority') & (race_emps['RACE_GROUP_LABEL'] != 'Equally minority/nonminority')]"
   ]
  },
  {
   "cell_type": "code",
   "execution_count": 59,
   "id": "a4dd8ca9",
   "metadata": {
    "scrolled": true
   },
   "outputs": [
    {
     "data": {
      "text/plain": [
       "Text(0.5, 1.0, 'Percentage of Employees by Race')"
      ]
     },
     "execution_count": 59,
     "metadata": {},
     "output_type": "execute_result"
    },
    {
     "data": {
      "image/png": "[encoded data removed]",
      "text/plain": [
       "<Figure size 576x576 with 1 Axes>"
      ]
     },
     "metadata": {},
     "output_type": "display_data"
    }
   ],
   "source": [
    "avg_num_employees = race_emps.groupby(by='RACE_GROUP_LABEL').mean()\n",
    "avg_num_employees.plot.pie(subplots=True,labeldistance=None,autopct='%.2f%%',pctdistance=1.2,figsize=(8,8))\n",
    "plt.legend(loc=3)\n",
    "plt.title('Percentage of Employees by Race')"
   ]
  },
  {
   "cell_type": "markdown",
   "id": "12eacb6a",
   "metadata": {},
   "source": [
    "## Race vs. Annual payments"
   ]
  },
  {
   "cell_type": "code",
   "execution_count": 38,
   "id": "fc8a5a88",
   "metadata": {
    "scrolled": true
   },
   "outputs": [
    {
     "name": "stderr",
     "output_type": "stream",
     "text": [
      "C:\\Users\\dfbod\\AppData\\Local\\Temp/ipykernel_22228/936893481.py:3: SettingWithCopyWarning: \n",
      "A value is trying to be set on a copy of a slice from a DataFrame.\n",
      "Try using .loc[row_indexer,col_indexer] = value instead\n",
      "\n",
      "See the caveats in the documentation: https://pandas.pydata.org/pandas-docs/stable/user_guide/indexing.html#returning-a-view-versus-a-copy\n",
      "  race_payann['PAYANN'] = pd.to_numeric(race_payann['PAYANN'])\n"
     ]
    },
    {
     "data": {
      "text/html": [
       "<div>\n",
       "<style scoped>\n",
       "    .dataframe tbody tr th:only-of-type {\n",
       "        vertical-align: middle;\n",
       "    }\n",
       "\n",
       "    .dataframe tbody tr th {\n",
       "        vertical-align: top;\n",
       "    }\n",
       "\n",
       "    .dataframe thead th {\n",
       "        text-align: right;\n",
       "    }\n",
       "</style>\n",
       "<table border=\"1\" class=\"dataframe\">\n",
       "  <thead>\n",
       "    <tr style=\"text-align: right;\">\n",
       "      <th></th>\n",
       "      <th>PAYANN</th>\n",
       "      <th>normalized_avg_pay</th>\n",
       "      <th>Race Group</th>\n",
       "    </tr>\n",
       "    <tr>\n",
       "      <th>RACE_GROUP_LABEL</th>\n",
       "      <th></th>\n",
       "      <th></th>\n",
       "      <th></th>\n",
       "    </tr>\n",
       "  </thead>\n",
       "  <tbody>\n",
       "    <tr>\n",
       "      <th>American Indian and Alaska Native</th>\n",
       "      <td>1.048229e+05</td>\n",
       "      <td>41.310336</td>\n",
       "      <td>American Indian and Alaska Native</td>\n",
       "    </tr>\n",
       "    <tr>\n",
       "      <th>Asian</th>\n",
       "      <td>2.112672e+06</td>\n",
       "      <td>34.693961</td>\n",
       "      <td>Asian</td>\n",
       "    </tr>\n",
       "    <tr>\n",
       "      <th>Black or African American</th>\n",
       "      <td>4.417288e+05</td>\n",
       "      <td>31.258676</td>\n",
       "      <td>Black or African American</td>\n",
       "    </tr>\n",
       "    <tr>\n",
       "      <th>Native Hawaiian and Other Pacific Islander</th>\n",
       "      <td>2.178602e+04</td>\n",
       "      <td>41.728513</td>\n",
       "      <td>Native Hawaiian and Other Pacific Islander</td>\n",
       "    </tr>\n",
       "    <tr>\n",
       "      <th>White</th>\n",
       "      <td>2.193165e+07</td>\n",
       "      <td>45.293934</td>\n",
       "      <td>White</td>\n",
       "    </tr>\n",
       "  </tbody>\n",
       "</table>\n",
       "</div>"
      ],
      "text/plain": [
       "                                                  PAYANN  normalized_avg_pay  \\\n",
       "RACE_GROUP_LABEL                                                               \n",
       "American Indian and Alaska Native           1.048229e+05           41.310336   \n",
       "Asian                                       2.112672e+06           34.693961   \n",
       "Black or African American                   4.417288e+05           31.258676   \n",
       "Native Hawaiian and Other Pacific Islander  2.178602e+04           41.728513   \n",
       "White                                       2.193165e+07           45.293934   \n",
       "\n",
       "                                                                            Race Group  \n",
       "RACE_GROUP_LABEL                                                                        \n",
       "American Indian and Alaska Native                    American Indian and Alaska Native  \n",
       "Asian                                                                            Asian  \n",
       "Black or African American                                    Black or African American  \n",
       "Native Hawaiian and Other Pacific Islander  Native Hawaiian and Other Pacific Islander  \n",
       "White                                                                            White  "
      ]
     },
     "execution_count": 38,
     "metadata": {},
     "output_type": "execute_result"
    }
   ],
   "source": [
    "race_payann = race_groups_only[['RACE_GROUP_LABEL','RACE_GROUP','PAYANN']]\n",
    "\n",
    "race_payann['PAYANN'] = pd.to_numeric(race_payann['PAYANN'])\n",
    "\n",
    "race_payann = race_payann[(race_payann['RACE_GROUP_LABEL'] != 'Classifiable') & (race_payann['RACE_GROUP_LABEL'] != 'Unclassifiable') & (race_payann['RACE_GROUP_LABEL'] != 'Nonminority') & (race_payann['RACE_GROUP_LABEL'] != 'Minority') & (race_payann['RACE_GROUP_LABEL'] != 'Equally minority/nonminority')]\n",
    "\n",
    "avg_pay_by_race = race_payann.groupby('RACE_GROUP_LABEL').mean()\n",
    "\n",
    "race_groups = list(avg_pay_by_race.index)\n",
    "\n",
    "def normalization(indexlist, elementlist):\n",
    "    new_column = []\n",
    "    for index in indexlist:\n",
    "        for element in elementlist:\n",
    "            if (indexlist.index(index)==elementlist.index(element)):\n",
    "                new_column.append(element[0]/(avg_num_employees.loc[index].values[0]))\n",
    "                \n",
    "    return new_column\n",
    "\n",
    "avg_pay_by_race['normalized_avg_pay'] = normalization(race_groups, list(avg_pay_by_race.values))\n",
    "avg_pay_by_race['Race Group'] = race_groups\n",
    "\n",
    "avg_pay_by_race"
   ]
  },
  {
   "cell_type": "code",
   "execution_count": 58,
   "id": "111f04a7",
   "metadata": {},
   "outputs": [
    {
     "data": {
      "text/plain": [
       "Text(0.5, 1.0, 'Average Annual Pay Rate ($1000s) by Race - 2018')"
      ]
     },
     "execution_count": 58,
     "metadata": {},
     "output_type": "execute_result"
    },
    {
     "data": {
      "image/png": "[encoded data removed]",
      "text/plain": [
       "<Figure size 432x288 with 1 Axes>"
      ]
     },
     "metadata": {
      "needs_background": "light"
     },
     "output_type": "display_data"
    }
   ],
   "source": [
    "avg_pay_by_race.plot.barh(y='normalized_avg_pay',x='Race Group',legend=None, color= [\"b\",'orange','g','r','purple'])\n",
    "plt.xlabel('Avg. Annual Pay rate ($1000s)')\n",
    "plt.ylabel('Race Group')\n",
    "plt.title('Average Annual Pay Rate ($1000s) by Race - 2018')"
   ]
  },
  {
   "cell_type": "markdown",
   "id": "901c2561",
   "metadata": {},
   "source": [
    "## Race vs. Total Sales (\\$)"
   ]
  },
  {
   "cell_type": "code",
   "execution_count": 7,
   "id": "c1d67124",
   "metadata": {
    "scrolled": true
   },
   "outputs": [
    {
     "name": "stderr",
     "output_type": "stream",
     "text": [
      "C:\\Users\\dfbod\\AppData\\Local\\Temp/ipykernel_18572/2178480815.py:3: SettingWithCopyWarning: \n",
      "A value is trying to be set on a copy of a slice from a DataFrame.\n",
      "Try using .loc[row_indexer,col_indexer] = value instead\n",
      "\n",
      "See the caveats in the documentation: https://pandas.pydata.org/pandas-docs/stable/user_guide/indexing.html#returning-a-view-versus-a-copy\n",
      "  race_sales['RCPPDEMP'] = pd.to_numeric(race_sales['RCPPDEMP'])\n"
     ]
    },
    {
     "data": {
      "text/html": [
       "<div>\n",
       "<style scoped>\n",
       "    .dataframe tbody tr th:only-of-type {\n",
       "        vertical-align: middle;\n",
       "    }\n",
       "\n",
       "    .dataframe tbody tr th {\n",
       "        vertical-align: top;\n",
       "    }\n",
       "\n",
       "    .dataframe thead th {\n",
       "        text-align: right;\n",
       "    }\n",
       "</style>\n",
       "<table border=\"1\" class=\"dataframe\">\n",
       "  <thead>\n",
       "    <tr style=\"text-align: right;\">\n",
       "      <th></th>\n",
       "      <th>RCPPDEMP</th>\n",
       "      <th>normalized_avg_sales</th>\n",
       "      <th>Race Group</th>\n",
       "    </tr>\n",
       "    <tr>\n",
       "      <th>RACE_GROUP_LABEL</th>\n",
       "      <th></th>\n",
       "      <th></th>\n",
       "      <th></th>\n",
       "    </tr>\n",
       "  </thead>\n",
       "  <tbody>\n",
       "    <tr>\n",
       "      <th>American Indian and Alaska Native</th>\n",
       "      <td>2.545436e+05</td>\n",
       "      <td>100.314740</td>\n",
       "      <td>American Indian and Alaska Native</td>\n",
       "    </tr>\n",
       "    <tr>\n",
       "      <th>Asian</th>\n",
       "      <td>5.361995e+06</td>\n",
       "      <td>88.053806</td>\n",
       "      <td>Asian</td>\n",
       "    </tr>\n",
       "    <tr>\n",
       "      <th>Black or African American</th>\n",
       "      <td>8.114463e+05</td>\n",
       "      <td>57.421515</td>\n",
       "      <td>Black or African American</td>\n",
       "    </tr>\n",
       "    <tr>\n",
       "      <th>Native Hawaiian and Other Pacific Islander</th>\n",
       "      <td>7.259541e+04</td>\n",
       "      <td>139.047822</td>\n",
       "      <td>Native Hawaiian and Other Pacific Islander</td>\n",
       "    </tr>\n",
       "    <tr>\n",
       "      <th>White</th>\n",
       "      <td>5.691404e+07</td>\n",
       "      <td>117.540642</td>\n",
       "      <td>White</td>\n",
       "    </tr>\n",
       "  </tbody>\n",
       "</table>\n",
       "</div>"
      ],
      "text/plain": [
       "                                                RCPPDEMP  \\\n",
       "RACE_GROUP_LABEL                                           \n",
       "American Indian and Alaska Native           2.545436e+05   \n",
       "Asian                                       5.361995e+06   \n",
       "Black or African American                   8.114463e+05   \n",
       "Native Hawaiian and Other Pacific Islander  7.259541e+04   \n",
       "White                                       5.691404e+07   \n",
       "\n",
       "                                            normalized_avg_sales  \\\n",
       "RACE_GROUP_LABEL                                                   \n",
       "American Indian and Alaska Native                     100.314740   \n",
       "Asian                                                  88.053806   \n",
       "Black or African American                              57.421515   \n",
       "Native Hawaiian and Other Pacific Islander            139.047822   \n",
       "White                                                 117.540642   \n",
       "\n",
       "                                                                            Race Group  \n",
       "RACE_GROUP_LABEL                                                                        \n",
       "American Indian and Alaska Native                    American Indian and Alaska Native  \n",
       "Asian                                                                            Asian  \n",
       "Black or African American                                    Black or African American  \n",
       "Native Hawaiian and Other Pacific Islander  Native Hawaiian and Other Pacific Islander  \n",
       "White                                                                            White  "
      ]
     },
     "execution_count": 7,
     "metadata": {},
     "output_type": "execute_result"
    }
   ],
   "source": [
    "race_sales = race_groups_only[['RACE_GROUP_LABEL','RACE_GROUP','RCPPDEMP']]\n",
    "\n",
    "race_sales['RCPPDEMP'] = pd.to_numeric(race_sales['RCPPDEMP'])\n",
    "\n",
    "race_sales = race_sales[(race_sales['RACE_GROUP_LABEL'] != 'Classifiable') & (race_sales['RACE_GROUP_LABEL'] != 'Unclassifiable') & (race_sales['RACE_GROUP_LABEL'] != 'Nonminority') & (race_sales['RACE_GROUP_LABEL'] != 'Minority') & (race_sales['RACE_GROUP_LABEL'] != 'Equally minority/nonminority')]\n",
    "\n",
    "avg_total_sales_by_race = race_sales.groupby('RACE_GROUP_LABEL').mean()\n",
    "\n",
    "avg_total_sales_by_race['normalized_avg_sales'] = normalization(race_groups, list(avg_total_sales_by_race.values),avg_total_sales_by_race)\n",
    "\n",
    "avg_total_sales_by_race['Race Group'] = list(avg_total_sales_by_race.index)\n",
    "\n",
    "avg_total_sales_by_race"
   ]
  },
  {
   "cell_type": "code",
   "execution_count": 8,
   "id": "8845e419",
   "metadata": {},
   "outputs": [
    {
     "data": {
      "text/plain": [
       "Text(0.5, 1.0, 'Average Total Sales ($1000) by Race - 2018')"
      ]
     },
     "execution_count": 8,
     "metadata": {},
     "output_type": "execute_result"
    },
    {
     "data": {
      "image/png": "[encoded data removed]",
      "text/plain": [
       "<Figure size 432x288 with 1 Axes>"
      ]
     },
     "metadata": {
      "needs_background": "light"
     },
     "output_type": "display_data"
    }
   ],
   "source": [
    "avg_total_sales_by_race.plot.barh(y='normalized_avg_sales', x='Race Group', legend=None)\n",
    "plt.ylabel('Race Group')\n",
    "plt.xlabel('Avg. Total Sales ($1000) in a year')\n",
    "plt.title('Average Total Sales ($1000) by Race - 2018')"
   ]
  },
  {
   "cell_type": "code",
   "execution_count": null,
   "id": "c76866ce",
   "metadata": {},
   "outputs": [],
   "source": []
  }
 ],
 "metadata": {
  "kernelspec": {
   "display_name": "Python 3 (ipykernel)",
   "language": "python",
   "name": "python3"
  },
  "language_info": {
   "codemirror_mode": {
    "name": "ipython",
    "version": 3
   },
   "file_extension": ".py",
   "mimetype": "text/x-python",
   "name": "python",
   "nbconvert_exporter": "python",
   "pygments_lexer": "ipython3",
   "version": "3.8.5"
  }
 },
 "nbformat": 4,
 "nbformat_minor": 5
}
