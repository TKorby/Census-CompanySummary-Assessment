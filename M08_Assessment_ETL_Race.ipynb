{
 "cells": [
  {
   "cell_type": "markdown",
   "id": "80e49856",
   "metadata": {},
   "source": [
    "# Group Exercise - Creating Visualizations While Exploring Data"
   ]
  },
  {
   "cell_type": "code",
   "execution_count": 2,
   "id": "a5ecaab6",
   "metadata": {},
   "outputs": [],
   "source": [
    "import requests\n",
    "import json\n",
    "import pandas as pd\n",
    "from bs4 import BeautifulSoup\n",
    "import matplotlib.pyplot as plt\n",
    "%matplotlib inline\n",
    "\n",
    "with open('config.json', 'rt') as config:\n",
    "    key = json.load(config)['key']"
   ]
  },
  {
   "cell_type": "code",
   "execution_count": 4,
   "id": "d6502074",
   "metadata": {},
   "outputs": [],
   "source": [
    "url = f'https://api.census.gov/data/2018/abscs?get=GEO_ID,NAME,NAICS2017,NAICS2017_LABEL,SEX,SEX_LABEL,ETH_GROUP,ETH_GROUP_LABEL,RACE_GROUP,RACE_GROUP_LABEL,VET_GROUP,VET_GROUP_LABEL,EMPSZFI,EMPSZFI_LABEL,YEAR,FIRMPDEMP,FIRMPDEMP_F,RCPPDEMP,RCPPDEMP_F,EMP,EMP_F,PAYANN,PAYANN_F,FIRMPDEMP_S,FIRMPDEMP_S_F,RCPPDEMP_S,RCPPDEMP_S_F,EMP_S,EMP_S_F,PAYANN_S,PAYANN_S_F&for=us:*&key={key}'"
   ]
  },
  {
   "cell_type": "code",
   "execution_count": 5,
   "id": "0b599e18",
   "metadata": {},
   "outputs": [],
   "source": [
    "json_code = requests.get(url).json()"
   ]
  },
  {
   "cell_type": "code",
   "execution_count": 6,
   "id": "0ac2f8ec",
   "metadata": {},
   "outputs": [],
   "source": [
    "with open('census_data_2018.json','wt') as census:\n",
    "    json.dump(json_code, census)"
   ]
  },
  {
   "cell_type": "code",
   "execution_count": 7,
   "id": "e936af04",
   "metadata": {},
   "outputs": [
    {
     "data": {
      "text/html": [
       "<div>\n",
       "<style scoped>\n",
       "    .dataframe tbody tr th:only-of-type {\n",
       "        vertical-align: middle;\n",
       "    }\n",
       "\n",
       "    .dataframe tbody tr th {\n",
       "        vertical-align: top;\n",
       "    }\n",
       "\n",
       "    .dataframe thead th {\n",
       "        text-align: right;\n",
       "    }\n",
       "</style>\n",
       "<table border=\"1\" class=\"dataframe\">\n",
       "  <thead>\n",
       "    <tr style=\"text-align: right;\">\n",
       "      <th></th>\n",
       "      <th>0</th>\n",
       "      <th>1</th>\n",
       "      <th>2</th>\n",
       "      <th>3</th>\n",
       "      <th>4</th>\n",
       "      <th>5</th>\n",
       "      <th>6</th>\n",
       "      <th>7</th>\n",
       "      <th>8</th>\n",
       "      <th>9</th>\n",
       "      <th>...</th>\n",
       "      <th>22</th>\n",
       "      <th>23</th>\n",
       "      <th>24</th>\n",
       "      <th>25</th>\n",
       "      <th>26</th>\n",
       "      <th>27</th>\n",
       "      <th>28</th>\n",
       "      <th>29</th>\n",
       "      <th>30</th>\n",
       "      <th>31</th>\n",
       "    </tr>\n",
       "  </thead>\n",
       "  <tbody>\n",
       "    <tr>\n",
       "      <th>0</th>\n",
       "      <td>GEO_ID</td>\n",
       "      <td>NAME</td>\n",
       "      <td>NAICS2017</td>\n",
       "      <td>NAICS2017_LABEL</td>\n",
       "      <td>SEX</td>\n",
       "      <td>SEX_LABEL</td>\n",
       "      <td>ETH_GROUP</td>\n",
       "      <td>ETH_GROUP_LABEL</td>\n",
       "      <td>RACE_GROUP</td>\n",
       "      <td>RACE_GROUP_LABEL</td>\n",
       "      <td>...</td>\n",
       "      <td>PAYANN_F</td>\n",
       "      <td>FIRMPDEMP_S</td>\n",
       "      <td>FIRMPDEMP_S_F</td>\n",
       "      <td>RCPPDEMP_S</td>\n",
       "      <td>RCPPDEMP_S_F</td>\n",
       "      <td>EMP_S</td>\n",
       "      <td>EMP_S_F</td>\n",
       "      <td>PAYANN_S</td>\n",
       "      <td>PAYANN_S_F</td>\n",
       "      <td>us</td>\n",
       "    </tr>\n",
       "    <tr>\n",
       "      <th>1</th>\n",
       "      <td>0100000US</td>\n",
       "      <td>United States</td>\n",
       "      <td>00</td>\n",
       "      <td>Total for all sectors</td>\n",
       "      <td>002</td>\n",
       "      <td>Female</td>\n",
       "      <td>020</td>\n",
       "      <td>Hispanic</td>\n",
       "      <td>00</td>\n",
       "      <td>Total</td>\n",
       "      <td>...</td>\n",
       "      <td>None</td>\n",
       "      <td>3.0</td>\n",
       "      <td>None</td>\n",
       "      <td>8.9</td>\n",
       "      <td>None</td>\n",
       "      <td>7.7</td>\n",
       "      <td>None</td>\n",
       "      <td>7.0</td>\n",
       "      <td>None</td>\n",
       "      <td>1</td>\n",
       "    </tr>\n",
       "    <tr>\n",
       "      <th>2</th>\n",
       "      <td>0100000US</td>\n",
       "      <td>United States</td>\n",
       "      <td>00</td>\n",
       "      <td>Total for all sectors</td>\n",
       "      <td>002</td>\n",
       "      <td>Female</td>\n",
       "      <td>020</td>\n",
       "      <td>Hispanic</td>\n",
       "      <td>00</td>\n",
       "      <td>Total</td>\n",
       "      <td>...</td>\n",
       "      <td>None</td>\n",
       "      <td>4.7</td>\n",
       "      <td>None</td>\n",
       "      <td>19.2</td>\n",
       "      <td>None</td>\n",
       "      <td>0.0</td>\n",
       "      <td>None</td>\n",
       "      <td>13.5</td>\n",
       "      <td>None</td>\n",
       "      <td>1</td>\n",
       "    </tr>\n",
       "    <tr>\n",
       "      <th>3</th>\n",
       "      <td>0100000US</td>\n",
       "      <td>United States</td>\n",
       "      <td>00</td>\n",
       "      <td>Total for all sectors</td>\n",
       "      <td>002</td>\n",
       "      <td>Female</td>\n",
       "      <td>020</td>\n",
       "      <td>Hispanic</td>\n",
       "      <td>00</td>\n",
       "      <td>Total</td>\n",
       "      <td>...</td>\n",
       "      <td>None</td>\n",
       "      <td>4.7</td>\n",
       "      <td>None</td>\n",
       "      <td>8.2</td>\n",
       "      <td>None</td>\n",
       "      <td>4.8</td>\n",
       "      <td>None</td>\n",
       "      <td>7.4</td>\n",
       "      <td>None</td>\n",
       "      <td>1</td>\n",
       "    </tr>\n",
       "    <tr>\n",
       "      <th>4</th>\n",
       "      <td>0100000US</td>\n",
       "      <td>United States</td>\n",
       "      <td>00</td>\n",
       "      <td>Total for all sectors</td>\n",
       "      <td>002</td>\n",
       "      <td>Female</td>\n",
       "      <td>020</td>\n",
       "      <td>Hispanic</td>\n",
       "      <td>00</td>\n",
       "      <td>Total</td>\n",
       "      <td>...</td>\n",
       "      <td>None</td>\n",
       "      <td>5.9</td>\n",
       "      <td>None</td>\n",
       "      <td>4.3</td>\n",
       "      <td>None</td>\n",
       "      <td>5.6</td>\n",
       "      <td>None</td>\n",
       "      <td>6.3</td>\n",
       "      <td>None</td>\n",
       "      <td>1</td>\n",
       "    </tr>\n",
       "  </tbody>\n",
       "</table>\n",
       "<p>5 rows × 32 columns</p>\n",
       "</div>"
      ],
      "text/plain": [
       "          0              1          2                      3    4          5   \\\n",
       "0     GEO_ID           NAME  NAICS2017        NAICS2017_LABEL  SEX  SEX_LABEL   \n",
       "1  0100000US  United States         00  Total for all sectors  002     Female   \n",
       "2  0100000US  United States         00  Total for all sectors  002     Female   \n",
       "3  0100000US  United States         00  Total for all sectors  002     Female   \n",
       "4  0100000US  United States         00  Total for all sectors  002     Female   \n",
       "\n",
       "          6                7           8                 9   ...        22  \\\n",
       "0  ETH_GROUP  ETH_GROUP_LABEL  RACE_GROUP  RACE_GROUP_LABEL  ...  PAYANN_F   \n",
       "1        020         Hispanic          00             Total  ...      None   \n",
       "2        020         Hispanic          00             Total  ...      None   \n",
       "3        020         Hispanic          00             Total  ...      None   \n",
       "4        020         Hispanic          00             Total  ...      None   \n",
       "\n",
       "            23             24          25            26     27       28  \\\n",
       "0  FIRMPDEMP_S  FIRMPDEMP_S_F  RCPPDEMP_S  RCPPDEMP_S_F  EMP_S  EMP_S_F   \n",
       "1          3.0           None         8.9          None    7.7     None   \n",
       "2          4.7           None        19.2          None    0.0     None   \n",
       "3          4.7           None         8.2          None    4.8     None   \n",
       "4          5.9           None         4.3          None    5.6     None   \n",
       "\n",
       "         29          30  31  \n",
       "0  PAYANN_S  PAYANN_S_F  us  \n",
       "1       7.0        None   1  \n",
       "2      13.5        None   1  \n",
       "3       7.4        None   1  \n",
       "4       6.3        None   1  \n",
       "\n",
       "[5 rows x 32 columns]"
      ]
     },
     "execution_count": 7,
     "metadata": {},
     "output_type": "execute_result"
    }
   ],
   "source": [
    "census_df = pd.read_json('census_data_2018.json')\n",
    "\n",
    "census_df.head()"
   ]
  },
  {
   "cell_type": "code",
   "execution_count": 8,
   "id": "b75d0b0f",
   "metadata": {},
   "outputs": [],
   "source": [
    "census_df.rename(columns=census_df.iloc[0],inplace=True)"
   ]
  },
  {
   "cell_type": "code",
   "execution_count": 9,
   "id": "f2c5b38f",
   "metadata": {},
   "outputs": [],
   "source": [
    "census_df.drop(0,inplace=True)"
   ]
  },
  {
   "cell_type": "code",
   "execution_count": 10,
   "id": "4dc41817",
   "metadata": {},
   "outputs": [],
   "source": [
    "census_df.drop(columns=['us','SEX','GEO_ID','ETH_GROUP','VET_GROUP','FIRMPDEMP_F','RCPPDEMP_F','EMP_F','FIRMPDEMP_S_F','RCPPDEMP_S_F','EMP_S_F','PAYANN_S_F','PAYANN_F'],inplace=True,axis=1)"
   ]
  },
  {
   "cell_type": "code",
   "execution_count": 11,
   "id": "fae4a642",
   "metadata": {},
   "outputs": [
    {
     "data": {
      "text/html": [
       "<div>\n",
       "<style scoped>\n",
       "    .dataframe tbody tr th:only-of-type {\n",
       "        vertical-align: middle;\n",
       "    }\n",
       "\n",
       "    .dataframe tbody tr th {\n",
       "        vertical-align: top;\n",
       "    }\n",
       "\n",
       "    .dataframe thead th {\n",
       "        text-align: right;\n",
       "    }\n",
       "</style>\n",
       "<table border=\"1\" class=\"dataframe\">\n",
       "  <thead>\n",
       "    <tr style=\"text-align: right;\">\n",
       "      <th></th>\n",
       "      <th>NAME</th>\n",
       "      <th>NAICS2017</th>\n",
       "      <th>NAICS2017_LABEL</th>\n",
       "      <th>SEX_LABEL</th>\n",
       "      <th>ETH_GROUP_LABEL</th>\n",
       "      <th>RACE_GROUP</th>\n",
       "      <th>RACE_GROUP_LABEL</th>\n",
       "      <th>VET_GROUP_LABEL</th>\n",
       "      <th>EMPSZFI</th>\n",
       "      <th>EMPSZFI_LABEL</th>\n",
       "      <th>YEAR</th>\n",
       "      <th>FIRMPDEMP</th>\n",
       "      <th>RCPPDEMP</th>\n",
       "      <th>EMP</th>\n",
       "      <th>PAYANN</th>\n",
       "      <th>FIRMPDEMP_S</th>\n",
       "      <th>RCPPDEMP_S</th>\n",
       "      <th>EMP_S</th>\n",
       "      <th>PAYANN_S</th>\n",
       "    </tr>\n",
       "  </thead>\n",
       "  <tbody>\n",
       "    <tr>\n",
       "      <th>1</th>\n",
       "      <td>United States</td>\n",
       "      <td>00</td>\n",
       "      <td>Total for all sectors</td>\n",
       "      <td>Female</td>\n",
       "      <td>Hispanic</td>\n",
       "      <td>00</td>\n",
       "      <td>Total</td>\n",
       "      <td>Total</td>\n",
       "      <td>001</td>\n",
       "      <td>All firms</td>\n",
       "      <td>2018</td>\n",
       "      <td>84496</td>\n",
       "      <td>91103725</td>\n",
       "      <td>722654</td>\n",
       "      <td>21975675</td>\n",
       "      <td>3.0</td>\n",
       "      <td>8.9</td>\n",
       "      <td>7.7</td>\n",
       "      <td>7.0</td>\n",
       "    </tr>\n",
       "    <tr>\n",
       "      <th>2</th>\n",
       "      <td>United States</td>\n",
       "      <td>00</td>\n",
       "      <td>Total for all sectors</td>\n",
       "      <td>Female</td>\n",
       "      <td>Hispanic</td>\n",
       "      <td>00</td>\n",
       "      <td>Total</td>\n",
       "      <td>Total</td>\n",
       "      <td>611</td>\n",
       "      <td>Firms with no employees</td>\n",
       "      <td>2018</td>\n",
       "      <td>10036</td>\n",
       "      <td>3233978</td>\n",
       "      <td>0</td>\n",
       "      <td>499996</td>\n",
       "      <td>4.7</td>\n",
       "      <td>19.2</td>\n",
       "      <td>0.0</td>\n",
       "      <td>13.5</td>\n",
       "    </tr>\n",
       "    <tr>\n",
       "      <th>3</th>\n",
       "      <td>United States</td>\n",
       "      <td>00</td>\n",
       "      <td>Total for all sectors</td>\n",
       "      <td>Female</td>\n",
       "      <td>Hispanic</td>\n",
       "      <td>00</td>\n",
       "      <td>Total</td>\n",
       "      <td>Total</td>\n",
       "      <td>612</td>\n",
       "      <td>Firms with 1 to 4 employees</td>\n",
       "      <td>2018</td>\n",
       "      <td>47105</td>\n",
       "      <td>15792524</td>\n",
       "      <td>92631</td>\n",
       "      <td>2808773</td>\n",
       "      <td>4.7</td>\n",
       "      <td>8.2</td>\n",
       "      <td>4.8</td>\n",
       "      <td>7.4</td>\n",
       "    </tr>\n",
       "    <tr>\n",
       "      <th>4</th>\n",
       "      <td>United States</td>\n",
       "      <td>00</td>\n",
       "      <td>Total for all sectors</td>\n",
       "      <td>Female</td>\n",
       "      <td>Hispanic</td>\n",
       "      <td>00</td>\n",
       "      <td>Total</td>\n",
       "      <td>Total</td>\n",
       "      <td>620</td>\n",
       "      <td>Firms with 5 to 9 employees</td>\n",
       "      <td>2018</td>\n",
       "      <td>12523</td>\n",
       "      <td>10688294</td>\n",
       "      <td>83449</td>\n",
       "      <td>2601817</td>\n",
       "      <td>5.9</td>\n",
       "      <td>4.3</td>\n",
       "      <td>5.6</td>\n",
       "      <td>6.3</td>\n",
       "    </tr>\n",
       "    <tr>\n",
       "      <th>5</th>\n",
       "      <td>United States</td>\n",
       "      <td>00</td>\n",
       "      <td>Total for all sectors</td>\n",
       "      <td>Female</td>\n",
       "      <td>Hispanic</td>\n",
       "      <td>00</td>\n",
       "      <td>Total</td>\n",
       "      <td>Total</td>\n",
       "      <td>630</td>\n",
       "      <td>Firms with 10 to 19 employees</td>\n",
       "      <td>2018</td>\n",
       "      <td>8516</td>\n",
       "      <td>14105603</td>\n",
       "      <td>116479</td>\n",
       "      <td>3506384</td>\n",
       "      <td>6.0</td>\n",
       "      <td>16.2</td>\n",
       "      <td>6.7</td>\n",
       "      <td>10.7</td>\n",
       "    </tr>\n",
       "  </tbody>\n",
       "</table>\n",
       "</div>"
      ],
      "text/plain": [
       "            NAME NAICS2017        NAICS2017_LABEL SEX_LABEL ETH_GROUP_LABEL  \\\n",
       "1  United States        00  Total for all sectors    Female        Hispanic   \n",
       "2  United States        00  Total for all sectors    Female        Hispanic   \n",
       "3  United States        00  Total for all sectors    Female        Hispanic   \n",
       "4  United States        00  Total for all sectors    Female        Hispanic   \n",
       "5  United States        00  Total for all sectors    Female        Hispanic   \n",
       "\n",
       "  RACE_GROUP RACE_GROUP_LABEL VET_GROUP_LABEL EMPSZFI  \\\n",
       "1         00            Total           Total     001   \n",
       "2         00            Total           Total     611   \n",
       "3         00            Total           Total     612   \n",
       "4         00            Total           Total     620   \n",
       "5         00            Total           Total     630   \n",
       "\n",
       "                   EMPSZFI_LABEL  YEAR FIRMPDEMP  RCPPDEMP     EMP    PAYANN  \\\n",
       "1                      All firms  2018     84496  91103725  722654  21975675   \n",
       "2        Firms with no employees  2018     10036   3233978       0    499996   \n",
       "3    Firms with 1 to 4 employees  2018     47105  15792524   92631   2808773   \n",
       "4    Firms with 5 to 9 employees  2018     12523  10688294   83449   2601817   \n",
       "5  Firms with 10 to 19 employees  2018      8516  14105603  116479   3506384   \n",
       "\n",
       "  FIRMPDEMP_S RCPPDEMP_S EMP_S PAYANN_S  \n",
       "1         3.0        8.9   7.7      7.0  \n",
       "2         4.7       19.2   0.0     13.5  \n",
       "3         4.7        8.2   4.8      7.4  \n",
       "4         5.9        4.3   5.6      6.3  \n",
       "5         6.0       16.2   6.7     10.7  "
      ]
     },
     "execution_count": 11,
     "metadata": {},
     "output_type": "execute_result"
    }
   ],
   "source": [
    "census_df.head()"
   ]
  },
  {
   "cell_type": "code",
   "execution_count": 12,
   "id": "ffd27fc3",
   "metadata": {},
   "outputs": [],
   "source": [
    "race_groups_only = census_df[census_df['RACE_GROUP_LABEL']!='Total']"
   ]
  },
  {
   "cell_type": "code",
   "execution_count": 13,
   "id": "68da3073",
   "metadata": {},
   "outputs": [
    {
     "data": {
      "text/plain": [
       "array(['White', 'Black or African American',\n",
       "       'American Indian and Alaska Native', 'Asian',\n",
       "       'Native Hawaiian and Other Pacific Islander', 'Minority',\n",
       "       'Equally minority/nonminority', 'Nonminority', 'Classifiable',\n",
       "       'Unclassifiable'], dtype=object)"
      ]
     },
     "execution_count": 13,
     "metadata": {},
     "output_type": "execute_result"
    }
   ],
   "source": [
    "race_groups_only.RACE_GROUP_LABEL.unique()"
   ]
  },
  {
   "cell_type": "code",
   "execution_count": 14,
   "id": "c2f8bd2e",
   "metadata": {},
   "outputs": [],
   "source": [
    "race_emps = race_groups_only[['RACE_GROUP_LABEL','RACE_GROUP','EMP']]"
   ]
  },
  {
   "cell_type": "code",
   "execution_count": 15,
   "id": "477fa77b",
   "metadata": {
    "scrolled": true
   },
   "outputs": [
    {
     "name": "stderr",
     "output_type": "stream",
     "text": [
      "C:\\Users\\dfbod\\AppData\\Local\\Temp/ipykernel_23476/247016209.py:1: SettingWithCopyWarning: \n",
      "A value is trying to be set on a copy of a slice from a DataFrame.\n",
      "Try using .loc[row_indexer,col_indexer] = value instead\n",
      "\n",
      "See the caveats in the documentation: https://pandas.pydata.org/pandas-docs/stable/user_guide/indexing.html#returning-a-view-versus-a-copy\n",
      "  race_emps['EMP'] = race_emps['EMP'].astype(int)\n"
     ]
    }
   ],
   "source": [
    "race_emps['EMP'] = race_emps['EMP'].astype(int)"
   ]
  },
  {
   "cell_type": "code",
   "execution_count": 16,
   "id": "8d615203",
   "metadata": {},
   "outputs": [
    {
     "data": {
      "text/plain": [
       "array(['White', 'Black or African American',\n",
       "       'American Indian and Alaska Native', 'Asian',\n",
       "       'Native Hawaiian and Other Pacific Islander', 'Minority',\n",
       "       'Equally minority/nonminority', 'Nonminority', 'Classifiable',\n",
       "       'Unclassifiable'], dtype=object)"
      ]
     },
     "execution_count": 16,
     "metadata": {},
     "output_type": "execute_result"
    }
   ],
   "source": [
    "race_emps['RACE_GROUP_LABEL'].unique()"
   ]
  },
  {
   "cell_type": "code",
   "execution_count": 17,
   "id": "a6e13f8b",
   "metadata": {},
   "outputs": [],
   "source": [
    "race_emps = race_emps[(race_emps['RACE_GROUP_LABEL'] != 'Classifiable') & (race_emps['RACE_GROUP_LABEL'] != 'Unclassifiable') & (race_emps['RACE_GROUP_LABEL'] != 'Nonminority') & (race_emps['RACE_GROUP_LABEL'] != 'Minority') & (race_emps['RACE_GROUP_LABEL'] != 'Equally minority/nonminority')]"
   ]
  },
  {
   "cell_type": "code",
   "execution_count": 18,
   "id": "a3e8800e",
   "metadata": {},
   "outputs": [
    {
     "name": "stdout",
     "output_type": "stream",
     "text": [
      "                                                      EMP\n",
      "RACE_GROUP_LABEL                                         \n",
      "American Indian and Alaska Native             2537.449407\n",
      "Asian                                        60894.528345\n",
      "Black or African American                    14131.398597\n",
      "Native Hawaiian and Other Pacific Islander     522.089479\n",
      "White                                       484207.282820\n"
     ]
    }
   ],
   "source": [
    "avg_num_employees = race_emps.groupby(by='RACE_GROUP_LABEL').mean()\n",
    "print(avg_num_employees)"
   ]
  },
  {
   "cell_type": "code",
   "execution_count": 19,
   "id": "a4dd8ca9",
   "metadata": {
    "scrolled": true
   },
   "outputs": [
    {
     "data": {
      "text/plain": [
       "Text(0.5, 1.0, 'Average Number of Employees by Race')"
      ]
     },
     "execution_count": 19,
     "metadata": {},
     "output_type": "execute_result"
    },
    {
     "data": {
      "image/png": "[encoded data removed]",
      "text/plain": [
       "<Figure size 432x288 with 1 Axes>"
      ]
     },
     "metadata": {
      "needs_background": "light"
     },
     "output_type": "display_data"
    }
   ],
   "source": [
    "avg_num_employees.plot.barh()\n",
    "plt.xlabel('Race Group')\n",
    "plt.ylabel('Avg. Number of Employees')\n",
    "plt.title('Average Number of Employees by Race')"
   ]
  },
  {
   "cell_type": "code",
   "execution_count": 20,
   "id": "305c8cd0",
   "metadata": {},
   "outputs": [
    {
     "data": {
      "text/plain": [
       "Index(['NAME', 'NAICS2017', 'NAICS2017_LABEL', 'SEX_LABEL', 'ETH_GROUP_LABEL',\n",
       "       'RACE_GROUP', 'RACE_GROUP_LABEL', 'VET_GROUP_LABEL', 'EMPSZFI',\n",
       "       'EMPSZFI_LABEL', 'YEAR', 'FIRMPDEMP', 'RCPPDEMP', 'EMP', 'PAYANN',\n",
       "       'FIRMPDEMP_S', 'RCPPDEMP_S', 'EMP_S', 'PAYANN_S'],\n",
       "      dtype='object')"
      ]
     },
     "execution_count": 20,
     "metadata": {},
     "output_type": "execute_result"
    }
   ],
   "source": [
    "census_df.columns"
   ]
  },
  {
   "cell_type": "markdown",
   "id": "12eacb6a",
   "metadata": {},
   "source": [
    "## Race vs. Annual payments"
   ]
  },
  {
   "cell_type": "code",
   "execution_count": 22,
   "id": "fc8a5a88",
   "metadata": {
    "scrolled": false
   },
   "outputs": [
    {
     "name": "stderr",
     "output_type": "stream",
     "text": [
      "C:\\Users\\dfbod\\AppData\\Local\\Temp/ipykernel_23476/3696662211.py:3: SettingWithCopyWarning: \n",
      "A value is trying to be set on a copy of a slice from a DataFrame.\n",
      "Try using .loc[row_indexer,col_indexer] = value instead\n",
      "\n",
      "See the caveats in the documentation: https://pandas.pydata.org/pandas-docs/stable/user_guide/indexing.html#returning-a-view-versus-a-copy\n",
      "  race_payann['PAYANN'] = pd.to_numeric(race_payann['PAYANN'])\n"
     ]
    },
    {
     "name": "stdout",
     "output_type": "stream",
     "text": [
      "                                                  PAYANN\n",
      "RACE_GROUP_LABEL                                        \n",
      "American Indian and Alaska Native           1.048229e+05\n",
      "Asian                                       2.112672e+06\n",
      "Black or African American                   4.417288e+05\n",
      "Native Hawaiian and Other Pacific Islander  2.178602e+04\n",
      "White                                       2.193165e+07\n"
     ]
    },
    {
     "data": {
      "text/plain": [
       "Text(0.5, 1.0, 'Average Pay Rate ($) in a year by Race')"
      ]
     },
     "execution_count": 22,
     "metadata": {},
     "output_type": "execute_result"
    },
    {
     "data": {
      "image/png": "[encoded data removed]",
      "text/plain": [
       "<Figure size 432x288 with 1 Axes>"
      ]
     },
     "metadata": {
      "needs_background": "light"
     },
     "output_type": "display_data"
    }
   ],
   "source": [
    "race_payann = race_groups_only[['RACE_GROUP_LABEL','RACE_GROUP','PAYANN']]\n",
    "\n",
    "race_payann['PAYANN'] = pd.to_numeric(race_payann['PAYANN'])\n",
    "\n",
    "race_payann = race_payann[(race_payann['RACE_GROUP_LABEL'] != 'Classifiable') & (race_payann['RACE_GROUP_LABEL'] != 'Unclassifiable') & (race_payann['RACE_GROUP_LABEL'] != 'Nonminority') & (race_payann['RACE_GROUP_LABEL'] != 'Minority') & (race_payann['RACE_GROUP_LABEL'] != 'Equally minority/nonminority')]\n",
    "\n",
    "avg_pay_by_race = race_payann.groupby('RACE_GROUP_LABEL').mean()\n",
    "print(avg_pay_by_race)\n",
    "avg_pay_by_race.plot.barh()\n",
    "plt.xlabel('Race Group')\n",
    "plt.ylabel('Avg. Pay rate ($) in a year')\n",
    "plt.title('Average Pay Rate ($) in a year by Race')"
   ]
  },
  {
   "cell_type": "markdown",
   "id": "d703c7c6",
   "metadata": {},
   "source": [
    "May need to normalize number by dividing by total employee populations for more accurate representation of pay rates. Regardless, if the White race group has roughly an 8 times larger average population than the Asian race group, which would make these two race groups more comparable, but there would still be a siginificant discrepancy when looking at other race groups."
   ]
  },
  {
   "cell_type": "markdown",
   "id": "901c2561",
   "metadata": {},
   "source": [
    "## Race vs. Total Sales (\\$)"
   ]
  },
  {
   "cell_type": "code",
   "execution_count": 23,
   "id": "c1d67124",
   "metadata": {},
   "outputs": [
    {
     "name": "stdout",
     "output_type": "stream",
     "text": [
      "                                                RCPPDEMP\n",
      "RACE_GROUP_LABEL                                        \n",
      "American Indian and Alaska Native           2.545436e+05\n",
      "Asian                                       5.361995e+06\n",
      "Black or African American                   8.114463e+05\n",
      "Native Hawaiian and Other Pacific Islander  7.259541e+04\n",
      "White                                       5.691404e+07\n"
     ]
    },
    {
     "name": "stderr",
     "output_type": "stream",
     "text": [
      "C:\\Users\\dfbod\\AppData\\Local\\Temp/ipykernel_23476/944698470.py:3: SettingWithCopyWarning: \n",
      "A value is trying to be set on a copy of a slice from a DataFrame.\n",
      "Try using .loc[row_indexer,col_indexer] = value instead\n",
      "\n",
      "See the caveats in the documentation: https://pandas.pydata.org/pandas-docs/stable/user_guide/indexing.html#returning-a-view-versus-a-copy\n",
      "  race_sales['RCPPDEMP'] = pd.to_numeric(race_sales['RCPPDEMP'])\n"
     ]
    },
    {
     "data": {
      "text/plain": [
       "Text(0.5, 1.0, 'Average Total Sales ($) in a year by Race')"
      ]
     },
     "execution_count": 23,
     "metadata": {},
     "output_type": "execute_result"
    },
    {
     "data": {
      "image/png": "[encoded data removed]",
      "text/plain": [
       "<Figure size 432x288 with 1 Axes>"
      ]
     },
     "metadata": {
      "needs_background": "light"
     },
     "output_type": "display_data"
    }
   ],
   "source": [
    "race_sales = race_groups_only[['RACE_GROUP_LABEL','RACE_GROUP','RCPPDEMP']]\n",
    "\n",
    "race_sales['RCPPDEMP'] = pd.to_numeric(race_sales['RCPPDEMP'])\n",
    "\n",
    "race_sales = race_sales[(race_sales['RACE_GROUP_LABEL'] != 'Classifiable') & (race_sales['RACE_GROUP_LABEL'] != 'Unclassifiable') & (race_sales['RACE_GROUP_LABEL'] != 'Nonminority') & (race_sales['RACE_GROUP_LABEL'] != 'Minority') & (race_sales['RACE_GROUP_LABEL'] != 'Equally minority/nonminority')]\n",
    "\n",
    "avg_total_sales_by_race = race_sales.groupby('RACE_GROUP_LABEL').mean()\n",
    "print(avg_total_sales_by_race)\n",
    "avg_total_sales_by_race.plot.barh()\n",
    "plt.xlabel('Race Group')\n",
    "plt.ylabel('Avg. Total Sales ($) in a year')\n",
    "plt.title('Average Total Sales ($) in a year by Race')"
   ]
  },
  {
   "cell_type": "markdown",
   "id": "aef2497c",
   "metadata": {},
   "source": [
    "Larger proportions of each groups' populations and outliers can skew the data. This aggregation would also need to be normalized for an accurate representation of this category."
   ]
  },
  {
   "cell_type": "code",
   "execution_count": null,
   "id": "8845e419",
   "metadata": {},
   "outputs": [],
   "source": []
  }
 ],
 "metadata": {
  "kernelspec": {
   "display_name": "Python 3 (ipykernel)",
   "language": "python",
   "name": "python3"
  },
  "language_info": {
   "codemirror_mode": {
    "name": "ipython",
    "version": 3
   },
   "file_extension": ".py",
   "mimetype": "text/x-python",
   "name": "python",
   "nbconvert_exporter": "python",
   "pygments_lexer": "ipython3",
   "version": "3.8.5"
  }
 },
 "nbformat": 4,
 "nbformat_minor": 5
}
